{
 "cells": [
  {
   "cell_type": "code",
   "execution_count": 7,
   "id": "a4e85bb4",
   "metadata": {},
   "outputs": [
    {
     "data": {
      "text/plain": [
       "True"
      ]
     },
     "execution_count": 7,
     "metadata": {},
     "output_type": "execute_result"
    }
   ],
   "source": [
    "'''1. Given an array, check if it contains any duplicates or not.\n",
    "arr = [1, 2, 4, 2, 5, 9]\n",
    "Output = True'''\n",
    "\n",
    "def check_duplicates(arr):\n",
    "    for item in arr:\n",
    "        num_of_time = arr.count(item)\n",
    "        if num_of_time > 1:\n",
    "            return True\n",
    "    return False\n",
    "\n",
    "arr = [1, 2, 4, 2, 5, 9]\n",
    "check_duplicates(arr)\n",
    "##Time Complexity is Big o of n\n",
    "## Space complexity is Big o of 1"
   ]
  },
  {
   "cell_type": "code",
   "execution_count": 8,
   "id": "3ff095d1",
   "metadata": {},
   "outputs": [
    {
     "name": "stdout",
     "output_type": "stream",
     "text": [
      "[5, 6, 7, 1, 2, 3, 4]\n"
     ]
    }
   ],
   "source": [
    "'''2. Given an array and an integer k, rotate the array to the right by k steps.\n",
    "arr = [1, 2, 3, 4, 5, 6, 7] k = 3\n",
    "Output = [5, 6, 7, 1, 2, 3, 4]'''\n",
    "\n",
    "arr = [1, 2, 3, 4, 5, 6, 7]\n",
    "k=3\n",
    "print(arr[4:] + arr[:4])"
   ]
  },
  {
   "cell_type": "code",
   "execution_count": 9,
   "id": "1ebc3d07",
   "metadata": {},
   "outputs": [
    {
     "name": "stdout",
     "output_type": "stream",
     "text": [
      "[12, 9, 7, 5, 4, 2]\n"
     ]
    }
   ],
   "source": [
    "'''3. Reverse the given array in-place, means without using any extra data structure.\n",
    "arr = [2, 4, 5, 7, 9, 12]\n",
    "Output = [12, 9, 7, 5, 4, 2]'''\n",
    "\n",
    "arr = [2, 4, 5, 7, 9, 12]\n",
    "print(arr[::-1])"
   ]
  },
  {
   "cell_type": "code",
   "execution_count": 17,
   "id": "ac97149a",
   "metadata": {},
   "outputs": [
    {
     "name": "stdout",
     "output_type": "stream",
     "text": [
      "Maxiumum element 20\n"
     ]
    }
   ],
   "source": [
    "'''4. Given an array of integers, find the maximum element in an array\n",
    "arr = [10, 5, 20, 8, 15]\n",
    "Output = 20'''\n",
    "\n",
    "new_arr = [10, 5, 20, 8, 15]\n",
    "\n",
    "for item in range(len(new_arr)-1):\n",
    "    if new_arr[item]> new_arr[item+1]:\n",
    "        max_num = new_arr[item]\n",
    "print(\"Maxiumum element\", max_num)\n",
    "##Time Complexity is Big o of n\n",
    "## Space complexity is Big o of 1"
   ]
  },
  {
   "cell_type": "code",
   "execution_count": 16,
   "id": "346aff85",
   "metadata": {},
   "outputs": [
    {
     "name": "stdout",
     "output_type": "stream",
     "text": [
      "After removing duplicates [1, 2, 3, 4, 4, 5]\n"
     ]
    }
   ],
   "source": [
    "'''5. Given a sorted array, remove the duplicate element without using any extra data structure.\n",
    "arr = [1, 1, 2, 2, 2, 3, 3, 4, 4, 4, 5, 5]\n",
    "Output = [1, 2, 3, 4, 5]'''\n",
    "\n",
    "arr = [1, 1, 2, 2, 2, 3, 3, 4, 4, 4, 5, 5]\n",
    "\n",
    "for item in arr:\n",
    "    count_item = arr.count(item)\n",
    "    if count_item > 1:\n",
    "        arr.remove(item)\n",
    "        \n",
    "print(\"After removing duplicates\", arr)\n",
    "##Time Complexity is Big o of n\n",
    "## Space complexity is Big o of 1"
   ]
  },
  {
   "cell_type": "code",
   "execution_count": null,
   "id": "b78b6c84",
   "metadata": {},
   "outputs": [],
   "source": []
  },
  {
   "cell_type": "code",
   "execution_count": null,
   "id": "65fab3ee",
   "metadata": {},
   "outputs": [],
   "source": []
  }
 ],
 "metadata": {
  "kernelspec": {
   "display_name": "Python 3 (ipykernel)",
   "language": "python",
   "name": "python3"
  },
  "language_info": {
   "codemirror_mode": {
    "name": "ipython",
    "version": 3
   },
   "file_extension": ".py",
   "mimetype": "text/x-python",
   "name": "python",
   "nbconvert_exporter": "python",
   "pygments_lexer": "ipython3",
   "version": "3.11.4"
  }
 },
 "nbformat": 4,
 "nbformat_minor": 5
}
